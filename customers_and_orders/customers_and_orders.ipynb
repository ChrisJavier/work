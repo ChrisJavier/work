{
  "cells": [
    {
      "cell_type": "markdown",
      "metadata": {
        "id": "piiX_CRNFYUi"
      },
      "source": [
        "# Technical Challenge ! Custiomers and Orders - The lifeblood of any business!\n",
        "\n",
        "This notebook depends on two data files: customers.scv and orders.csv. These files are hosted in the cloud (or Github), so for simplicity, we are providing you with the code to download and save the two files in a folder called 'sample_data' which lives within this notebook session (not on your local computer nor Google Drive).\n",
        "\n",
        "![sample_data folder in notebook session](https://raw.githubusercontent.com/anyoneai/notebooks/main/customers_and_orders/images/sample_data_folder.png)\n",
        "\n",
        "Please execute the first code snippet before moving to the rest of the exercise as this code will import the data from the files for you to be able to execute the rest of the exercise.\n",
        "\n",
        "Remember as we said in the previous lecture, you have to save this notebook into your Google Drive by going to menu File/Save a Copy In Drive, or clicking in the button \"Copy to Drive\". This way, you will not lose any work you've done and the file will persist with your latest changes in your Google Drive. Also we recommend you to rename your .ipynb in your Google Drive, so you can easily find it in the future."
      ]
    },
    {
      "cell_type": "code",
      "execution_count": 2,
      "metadata": {
        "colab": {
          "base_uri": "https://localhost:8080/"
        },
        "id": "MWpVO242FQHC",
        "outputId": "628850d5-9eaa-4883-9cbd-8dd8da0683cb"
      },
      "outputs": [
        {
          "output_type": "stream",
          "name": "stdout",
          "text": [
            "Customers and orders CSV files have been added './sample_data'\n"
          ]
        }
      ],
      "source": [
        "import requests\n",
        "\n",
        "def import_data_files():\n",
        "  r = requests.get('https://raw.githubusercontent.com/anyoneai/notebooks/main/customers_and_orders/data/customers.csv')\n",
        "  with open('./sample_data/customers.csv', 'wb') as f:\n",
        "    f.write(r.content)\n",
        "\n",
        "  r = requests.get('https://raw.githubusercontent.com/anyoneai/notebooks/main/customers_and_orders/data/orders.csv')\n",
        "  with open('./sample_data/orders.csv', 'wb') as f:\n",
        "    f.write(r.content)\n",
        "\n",
        "import_data_files()\n",
        "print(\"Customers and orders CSV files have been added './sample_data'\")"
      ]
    },
    {
      "cell_type": "markdown",
      "metadata": {
        "id": "JQAduY-RWKyB"
      },
      "source": [
        "# Exercise 1: Processing Customers data (difficulty medium)\n",
        "\n",
        "The sample customer data in 'customers.csv' file has just 5 columns: CustomerId, First Name, Last Name, City and State\n",
        "\n",
        "![Data sample](https://raw.githubusercontent.com/anyoneai/notebooks/main/customers_and_orders/images/customers.png)\n",
        "\n",
        "We strongly recommend that you complete from the [Prep Course: Intro to Python](https://colab.research.google.com/github/anyoneai/notebooks/blob/main/python3_crash_course.ipynb) the following section:\n",
        "- Section 7: File I/O (to understand how to read CSV file)\n",
        "- Section 6: For Loop (to navigate the contents of the CSV file)\n",
        "- Section 5: Tuples, Lists, and Dictionaries (to manipulate the data of the CSV file)\n",
        "\n",
        "With this, we hope you can complete this exercise successfully. Although if you want to solve this with libraries or any other way, you are welcome to do it your way.\n",
        "\n",
        "*Hint:* We advise you to take a look at the data before you start.\n",
        "**if you want to manually take a look at the data before you start, please see the content of the data [here](https://github.com/anyoneai/notebooks/blob/main/customers_and_orders/data/customers.csv).\n",
        "\n",
        "*Hint*: There are many ways to do this exercise you can do your own, although here's some help. You can solve this exercise reading and parsing CSV files, structuring data into dictionaries, and using for loops to navigate the contents\n",
        "\n",
        "*Hint*: Also, keep in mind that data might not be clean and you might have to figure out how to deal with that data from the code, without having to modify the data source.\n",
        "\n",
        "Below are the 5 questions you'll have to answer to pass the evaluation:"
      ]
    },
    {
      "cell_type": "markdown",
      "metadata": {
        "id": "kJq7S8sBfbOW"
      },
      "source": [
        "**Question 1:** How many customers are in the file?\n",
        "(as help, we have added some comments and starter code to help you structure the solution)"
      ]
    },
    {
      "cell_type": "code",
      "execution_count": 2,
      "metadata": {
        "colab": {
          "base_uri": "https://localhost:8080/"
        },
        "id": "oMnUFBFb2RUb",
        "outputId": "40025c4f-be31-4ad3-955d-4e09ae6d798d"
      },
      "outputs": [
        {
          "output_type": "stream",
          "name": "stdout",
          "text": [
            "Total no. of rows: 602\n",
            "All done!\n"
          ]
        }
      ],
      "source": [
        "from os.path import exists\n",
        "import csv\n",
        "\n",
        "# check if file can be found and open the file\n",
        "datafile = \"./sample_data/customers.csv\"\n",
        "if not exists(datafile):\n",
        "  raise SystemExit(\"You should run the first code cell and download the dataset files!\")\n",
        "\n",
        "# customers file is in the sample_data folder and can be opened.\n",
        "# Using csv reader is one way of dealing with the file\n",
        "# but it's up to you how you want to proceed\n",
        "with open(datafile, 'r') as fl:\n",
        "  csvreader = csv.reader(fl, delimiter=',')\n",
        "  # extracting each data row one by one\n",
        "  rows = list(csvreader)\n",
        "\n",
        "  print(\"Total no. of rows: %d\" % (len(rows)-1))\n",
        "\n",
        "print(\"All done!\")"
      ]
    },
    {
      "cell_type": "markdown",
      "metadata": {
        "id": "uffBnNgz_570"
      },
      "source": [
        "**Question 2:** In how many different states do the customers live in?"
      ]
    },
    {
      "cell_type": "code",
      "source": [
        "from os.path import exists\n",
        "import csv\n",
        "\n",
        "# check if file can be found and open the file\n",
        "datafile = \"./sample_data/customers.csv\"\n",
        "if not exists(datafile):\n",
        "  raise SystemExit(\"You should run the first code cell and download the dataset files!\")\n",
        "\n",
        "# initialization of variable\n",
        "rows = []\n",
        "\n",
        "# customers file is in the sample_data folder and can be opened.\n",
        "# Using csv reader is one way of dealing with the file\n",
        "# but it's up to you how you want to proceed\n",
        "with open(datafile, newline='') as csvfile:\n",
        "  reader = csv.DictReader(csvfile)\n",
        "  # extracting each data row one by one\n",
        "\n",
        "  for row in reader:\n",
        "     rows.append(row['State'].upper().replace(\" \",\"\"))\n",
        "\n",
        "  rows = list(set(rows))\n",
        "  print(\"These are the states of customers: \", rows)\n",
        "  print(\"Total no. of states: %d\" % (len(rows)-1))\n",
        "\n",
        "print(\"All done!\")"
      ],
      "metadata": {
        "colab": {
          "base_uri": "https://localhost:8080/"
        },
        "id": "6oOoy_DlWRFH",
        "outputId": "7d43ae25-71de-4757-cba8-b117ccddf46f"
      },
      "execution_count": null,
      "outputs": [
        {
          "output_type": "stream",
          "name": "stdout",
          "text": [
            "These are the states of customers:  ['CA', 'IN', 'UT', 'WA', 'OR', 'MA', 'NM', 'TX', 'NH', 'AZ', 'CO', 'ID', 'FL', 'NV']\n",
            "Total no. of states: 13\n",
            "All done!\n"
          ]
        }
      ]
    },
    {
      "cell_type": "markdown",
      "metadata": {
        "id": "DC59SZYiMfNY"
      },
      "source": [
        "**Question 3** What is the state with most customers?"
      ]
    },
    {
      "cell_type": "code",
      "execution_count": 83,
      "metadata": {
        "id": "tfGU3w-OMhA9",
        "colab": {
          "base_uri": "https://localhost:8080/"
        },
        "outputId": "22ada095-c9e0-4d50-bb4c-d9e0c09b638d"
      },
      "outputs": [
        {
          "output_type": "stream",
          "name": "stdout",
          "text": [
            "This is the state with the most customers:  [{569, 'CA'}]\n",
            "All done!\n"
          ]
        }
      ],
      "source": [
        "from collections import Counter\n",
        "from os.path import exists\n",
        "import csv\n",
        "\n",
        "# check if file can be found and open the file\n",
        "datafile = \"./sample_data/customers.csv\"\n",
        "if not exists(datafile):\n",
        "  raise SystemExit(\"You should run the first code cell and download the dataset files!\")\n",
        "\n",
        "# initialization of variable\n",
        "rows = []\n",
        "most_commons = []\n",
        "tmp_value = 0\n",
        "size_commons = 0\n",
        "\n",
        "# customers file is in the sample_data folder and can be opened.\n",
        "# Using csv reader is one way of dealing with the file\n",
        "# but it's up to you how you want to proceed\n",
        "\n",
        "with open(datafile, newline='') as csvfile:\n",
        "  reader = csv.DictReader(csvfile)\n",
        "  # extracting each data row one by one\n",
        "\n",
        "  for row in reader:\n",
        "    rows.append(row['State'].upper().replace(\" \",\"\"))\n",
        "\n",
        "  rows = Counter(list(rows))\n",
        "\n",
        "  for i, j in rows.most_common():\n",
        "    if j > tmp_value:\n",
        "      if len(most_commons) > 0:\n",
        "        most_commons = []\n",
        "      tmp_value = j\n",
        "      most_commons.append({i,j})\n",
        "\n",
        "\n",
        "  print(\"This is the state with the most customers: \", most_commons)\n",
        "\n",
        "print(\"All done!\")"
      ]
    },
    {
      "cell_type": "markdown",
      "metadata": {
        "id": "7mcM6cUAMhLB"
      },
      "source": [
        "**Question 4** What is the state with the least customers?"
      ]
    },
    {
      "cell_type": "code",
      "execution_count": 82,
      "metadata": {
        "id": "8T0Ka2RqMi3P",
        "colab": {
          "base_uri": "https://localhost:8080/"
        },
        "outputId": "f92f7700-1541-4d1a-c7c7-2a1aabe5c4ee"
      },
      "outputs": [
        {
          "output_type": "stream",
          "name": "stdout",
          "text": [
            "These are the states with the least customers:  [{'WA', 1}, {1, 'NH'}, {'ID', 1}, {1, 'OR'}, {1, 'MA'}, {'IN', 1}]\n",
            "All done!\n"
          ]
        }
      ],
      "source": [
        "from collections import Counter\n",
        "from os.path import exists\n",
        "import csv\n",
        "\n",
        "# check if file can be found and open the file\n",
        "datafile = \"./sample_data/customers.csv\"\n",
        "if not exists(datafile):\n",
        "  raise SystemExit(\"You should run the first code cell and download the dataset files!\")\n",
        "\n",
        "# initialization of variable\n",
        "rows = []\n",
        "most_commons = []\n",
        "tmp_value = 0\n",
        "size_commons = 0\n",
        "\n",
        "# customers file is in the sample_data folder and can be opened.\n",
        "# Using csv reader is one way of dealing with the file\n",
        "# but it's up to you how you want to proceed\n",
        "\n",
        "with open(datafile, newline='') as csvfile:\n",
        "  reader = csv.DictReader(csvfile)\n",
        "  # extracting each data row one by one\n",
        "\n",
        "  for row in reader:\n",
        "    rows.append(row['State'].upper().replace(\" \",\"\"))\n",
        "\n",
        "  rows = Counter(list(rows))\n",
        "\n",
        "from collections import Counter\n",
        "from os.path import exists\n",
        "import csv\n",
        "\n",
        "# check if file can be found and open the file\n",
        "datafile = \"./sample_data/customers.csv\"\n",
        "if not exists(datafile):\n",
        "  raise SystemExit(\"You should run the first code cell and download the dataset files!\")\n",
        "\n",
        "# initialization of variable\n",
        "rows = []\n",
        "most_commons = []\n",
        "tmp_value = 0\n",
        "size_commons = 0\n",
        "\n",
        "# customers file is in the sample_data folder and can be opened.\n",
        "# Using csv reader is one way of dealing with the file\n",
        "# but it's up to you how you want to proceed\n",
        "\n",
        "with open(datafile, newline='') as csvfile:\n",
        "  reader = csv.DictReader(csvfile)\n",
        "  # extracting each data row one by one\n",
        "\n",
        "  for row in reader:\n",
        "    rows.append(row['State'].upper().replace(\" \",\"\"))\n",
        "\n",
        "  rows = Counter(list(rows))\n",
        "\n",
        "  for i, j in rows.most_common():\n",
        "    if j < tmp_value:\n",
        "      if len(most_commons) > 0:\n",
        "        most_commons = []\n",
        "    tmp_value = j\n",
        "    most_commons.append({i,j})\n",
        "\n",
        "\n",
        "  print(\"These are the states with the least customers: \", most_commons)\n",
        "\n",
        "print(\"All done!\")"
      ]
    },
    {
      "cell_type": "markdown",
      "metadata": {
        "id": "h6fIy7hXHF6A"
      },
      "source": [
        "**Question 5:** What is the most common last name?"
      ]
    },
    {
      "cell_type": "code",
      "execution_count": null,
      "metadata": {
        "id": "k8M1DmA75Km7",
        "colab": {
          "base_uri": "https://localhost:8080/"
        },
        "outputId": "dfff9e0c-5348-4867-d3f3-d9b4feda4dd2"
      },
      "outputs": [
        {
          "output_type": "stream",
          "name": "stdout",
          "text": [
            "This is the most common lastname customer:  [{8, 'Smith'}]\n",
            "All done!\n"
          ]
        }
      ],
      "source": [
        "from collections import Counter\n",
        "from os.path import exists\n",
        "import csv\n",
        "\n",
        "# check if file can be found and open the file\n",
        "datafile = \"./sample_data/customers.csv\"\n",
        "if not exists(datafile):\n",
        "  raise SystemExit(\"You should run the first code cell and download the dataset files!\")\n",
        "\n",
        "# initialization of variable\n",
        "rows = []\n",
        "most_commons = []\n",
        "tmp_value = 0\n",
        "size_commons = 0\n",
        "\n",
        "# customers file is in the sample_data folder and can be opened.\n",
        "# Using csv reader is one way of dealing with the file\n",
        "# but it's up to you how you want to proceed\n",
        "\n",
        "with open(datafile, newline='') as csvfile:\n",
        "  reader = csv.DictReader(csvfile)\n",
        "  # extracting each data row one by one\n",
        "\n",
        "  for row in reader:\n",
        "    rows.append(row['LastName'].replace(\" \",\"\"))\n",
        "\n",
        "  rows = Counter(list(rows))\n",
        "\n",
        "  for i, j in rows.most_common():\n",
        "    if j > tmp_value:\n",
        "      if len(most_commons) > 0:\n",
        "        most_commons = []\n",
        "      tmp_value = j\n",
        "      most_commons.append({i,j})\n",
        "\n",
        "\n",
        "  print(\"This is the most common lastname customer: \", most_commons)\n",
        "\n",
        "print(\"All done!\")"
      ]
    },
    {
      "cell_type": "markdown",
      "metadata": {
        "id": "YPRma1t9NoFk"
      },
      "source": [
        "# Exercise 2: Processing Orders data (difficulty high)\n",
        "\n",
        "The second sample files contains orders placed by customers from the first file. Be careful, this file has many rows and you most likely should not print the contents of the whole file.\n",
        "\n",
        "The file contains the following columns: CustomerID, OrderID, Date, OrderTotal, ProductName, Price\n",
        "\n",
        "![Data sample](https://raw.githubusercontent.com/anyoneai/notebooks/main/customers_and_orders/images/orders.png)\n",
        "\n",
        "*Hint:* We advise you to take a look at the data before you start.\n",
        "**if you want to manually take a look at the data before you start, please see the content of the data [here](https://raw.githubusercontent.com/anyoneai/notebooks/main/customers_and_orders/data/orders.csv).\n",
        "\n",
        "*Hint*: There are many ways to do this exercise you can do your own, although here's some help. You can solve this exercise reading and parsing CSV files, structuring data into dictionaries, and using for loops to navigate the contents\n",
        "\n",
        "*Hint*: Also, the data is not clean and you will have to figure out how to deal with that data from the code, without having to modify the data source.\n",
        "\n",
        "\n",
        "\n",
        "**Question #1:** How many unique orders are in the orders.csv file?\n",
        "\n",
        "**Question #2:** What is the average number of items per order (rounded to two decimal places)?\n",
        "\n",
        "**Question #3:** What is the highest number of items per order?\n",
        "\n",
        "**Question #4:** What is the number of orders placed in October 2021?\n",
        "\n",
        "**Question #5:** Which customer spent the most amount of money in 2021?\n",
        "\n",
        "**Question #6:** Historically, what is the best month for sales?\n",
        "\n",
        "Once you get your answers, remember to go back to the course and introduce them in the multiple choice quiz"
      ]
    },
    {
      "cell_type": "code",
      "execution_count": 79,
      "metadata": {
        "id": "8ipJTrfs5QVM",
        "colab": {
          "base_uri": "https://localhost:8080/"
        },
        "outputId": "5c28b61d-dabb-4579-9c80-b45ccd1db6be"
      },
      "outputs": [
        {
          "output_type": "stream",
          "name": "stdout",
          "text": [
            "Question #1: How many unique orders are in the orders.csv file? The answer is: 16672\n",
            "Question #2: What is the average number of items per order (rounded to two decimal places)? The answer is 1.76\n",
            "Question #3: What is the highest number of items per order? The answer is 35 items\n",
            "Question #4: What is the number of orders placed in October 2021? The answer is 267 orders\n",
            "Question #5: Which customer spent the most amount of money in 2021? The answer is ('5172443', 7755.0)\n",
            "Question #6: Historically, what is the best month for sales? The month is January with an amount of 292908.0\n",
            "All done!\n"
          ]
        }
      ],
      "source": [
        "from collections import Counter\n",
        "from os.path import exists\n",
        "from datetime import datetime\n",
        "from decimal import Decimal\n",
        "import csv\n",
        "\n",
        "class Order:\n",
        "    def __init__(self, CustomerID, OrderID, Date, OrderTotal):\n",
        "        self.CustomerID = CustomerID\n",
        "        self.OrderID = OrderID\n",
        "        if Date != '':\n",
        "          self.Date = datetime.strptime(Date , '%Y-%m-%d %H:%M:%S.%f')\n",
        "        else:\n",
        "          self.Date = Date\n",
        "        self.OrderTotal = float(OrderTotal)\n",
        "        self.Products = []\n",
        "\n",
        "    def __str__(self):\n",
        "      return f\"'CustomerID' : '{self.CustomerID}','OrderID' : '{self.OrderID}','Date' : '{self.Date}','OrderTotal' : '{self.OrderTotal}','Products' : '{self.Products}'\"\n",
        "\n",
        "    def append_product(self, ProductName, Price):\n",
        "      self.Products.append(Product(ProductName, Price))\n",
        "\n",
        "class Product:\n",
        "    def __init__(self, ProductName, Price):\n",
        "        self.ProductName = ProductName\n",
        "        self.Price = Price\n",
        "\n",
        "    def __str__(self):\n",
        "          return f\"'ProductName' : '{self.ProductName}','Price' : '{self.Price}'\"\n",
        "\n",
        "# Sort Value Key For Orders\n",
        "def key_sort(e):\n",
        "  return e['OrderID']\n",
        "\n",
        "# check if file can be found and open the file\n",
        "datafile = \"./sample_data/orders.csv\"\n",
        "if not exists(datafile):\n",
        "  raise SystemExit(\"You should run the first code cell and download the dataset files!\")\n",
        "\n",
        "# initialization of variable\n",
        "rows = []\n",
        "orders = []\n",
        "tmp_order = Order(0,0,'',0)\n",
        "tmp_value_order = 0\n",
        "size_commons = 0\n",
        "\n",
        "# customers file is in the sample_data folder and can be opened.\n",
        "# Using csv reader is one way of dealing with the file\n",
        "# but it's up to you how you want to proceed\n",
        "\n",
        "with open(datafile, newline='') as csvfile:\n",
        "  reader = csv.DictReader(csvfile)\n",
        "  rows = list(reader)\n",
        "  rows.sort(key=key_sort)\n",
        "\n",
        "# Question #1: How many unique orders are in the orders.csv file?\n",
        "  for i in rows:\n",
        "    if tmp_value_order == i['OrderID']:\n",
        "      tmp_order.Products.append(Product(i['ProductName'],i['Price']))\n",
        "    else:\n",
        "      tmp_order = Order(i['CustomerID'],i['OrderID'],i['Date'],i['OrderTotal'])\n",
        "      tmp_order.Products.append(Product(i['ProductName'],i['Price']))\n",
        "      orders.append(tmp_order)\n",
        "      size_commons +=1\n",
        "      tmp_value_order= i['OrderID']\n",
        "\n",
        "  print(f'Question #1: How many unique orders are in the orders.csv file? The answer is: {len(orders)}')\n",
        "\n",
        "# Question #2: What is the average number of items per order (rounded to two decimal places)?\n",
        "  average_items = 0\n",
        "  for order in orders: average_items += len(order.Products)\n",
        "\n",
        "  print(f'Question #2: What is the average number of items per order (rounded to two decimal places)? The answer is {round(average_items/len(orders),2)}')\n",
        "# Question #3: What is the highest number of items per order?\n",
        "  highest_number_items = 0\n",
        "  for order in orders:\n",
        "    if len(order.Products) > highest_number_items:\n",
        "      highest_number_items= len(order.Products)\n",
        "\n",
        "  print(f'Question #3: What is the highest number of items per order? The answer is {highest_number_items} items')\n",
        "\n",
        "# Question #4: What is the number of orders placed in October 2021?\n",
        "  oct_orders_number = 0\n",
        "  for order in orders:\n",
        "    if order.Date != '':\n",
        "      if int(order.Date.strftime(\"%m\")) == 10 and int(order.Date.strftime(\"%Y\")) == 2021:\n",
        "        oct_orders_number += 1\n",
        "  print(f'Question #4: What is the number of orders placed in October 2021? The answer is {oct_orders_number} orders')\n",
        "\n",
        "# Question #5: Which customer spent the most amount of money in 2021?\n",
        "  dict_orders_spenders = {}\n",
        "  for order in orders:\n",
        "    if order.Date != '':\n",
        "      if int(order.Date.strftime(\"%Y\")) == 2021:\n",
        "        if dict_orders_spenders.get(order.CustomerID) is None:\n",
        "          dict_orders_spenders[order.CustomerID] = order.OrderTotal\n",
        "        else:\n",
        "          dict_orders_spenders[order.CustomerID] += order.OrderTotal\n",
        "\n",
        "  max_spender = ('', 0)\n",
        "  for customer in dict_orders_spenders.items():\n",
        "    if customer[1] > max_spender[1]:\n",
        "      max_spender = customer\n",
        "  print(f'Question #5: Which customer spent the most amount of money in 2021? The answer is {max_spender}')\n",
        "\n",
        " #  Question #6: Historically, what is the best month for sales?\n",
        "  dict_month_sales = {}\n",
        "  for order in orders:\n",
        "    for month in range(12):\n",
        "      if order.Date != '':\n",
        "        if int(order.Date.strftime(\"%m\")) == month:\n",
        "          if dict_month_sales.get(order.Date.strftime(\"%B\")) is None:\n",
        "            dict_month_sales[order.Date.strftime(\"%B\")] = order.OrderTotal\n",
        "          else:\n",
        "            dict_month_sales[order.Date.strftime(\"%B\")] += order.OrderTotal\n",
        "\n",
        "  max_month = ('', 0)\n",
        "  for month in dict_month_sales.items():\n",
        "    if month[1] > max_month[1]:\n",
        "      max_month = month\n",
        "  print(f'Question #6: Historically, what is the best month for sales? The month is {max_month[0]} with an amount of {max_month[1]}')\n",
        "\n",
        "print(\"All done!\")"
      ]
    },
    {
      "cell_type": "markdown",
      "metadata": {
        "id": "ie0JW4FAk6Os"
      },
      "source": [
        "# Finished!\n",
        "\n",
        "Hope this was not too difficult and slicing and dicing the datasets was some fun. Now head on back to the course and provide the answers to the questions from this exercise."
      ]
    }
  ],
  "metadata": {
    "colab": {
      "name": "customers_and_orders.ipynb",
      "provenance": []
    },
    "kernelspec": {
      "display_name": "Python 3 (ipykernel)",
      "language": "python",
      "name": "python3"
    },
    "language_info": {
      "codemirror_mode": {
        "name": "ipython",
        "version": 3
      },
      "file_extension": ".py",
      "mimetype": "text/x-python",
      "name": "python",
      "nbconvert_exporter": "python",
      "pygments_lexer": "ipython3",
      "version": "3.9.9"
    }
  },
  "nbformat": 4,
  "nbformat_minor": 0
}